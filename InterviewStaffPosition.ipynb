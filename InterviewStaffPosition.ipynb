{
 "cells": [
  {
   "cell_type": "markdown",
   "metadata": {
    "slideshow": {
     "slide_type": "slide"
    }
   },
   "source": [
    "<img src=\"https://raw.githubusercontent.com/dalg24/cap-notebooks/master/CEES-logo.png\" width=\"400\">\n",
    "\n",
    "***Computational Engineering and Energy Sciences Group***\n",
    "\n",
    "Damien LEBRUN-GRANDIÉ <qdi@ornl.gov>"
   ]
  },
  {
   "cell_type": "markdown",
   "metadata": {
    "slideshow": {
     "slide_type": "slide"
    }
   },
   "source": [
    "# Outline\n",
    "\n",
    "* Modeling supercapacitors\n",
    "    * Storage principles\n",
    "    * Governing equations\n",
    "* Numerical results\n",
    "    * Quantities of interest\n",
    "    * Compare against experiment\n",
    "* Software development for modeling energy storage devices\n",
    "    * Introduce ``Cap``\n",
    "    * Container-based virtualization"
   ]
  },
  {
   "cell_type": "markdown",
   "metadata": {
    "slideshow": {
     "slide_type": "slide"
    }
   },
   "source": [
    "## Motivation\n",
    "<img src=\"figures/simplified_ragone_plot.png\" width=\"600\">\n",
    "From [M. Winter and R. Brodd, Chem. Rev., 104(10), 4245-4270 (2004)]"
   ]
  },
  {
   "cell_type": "markdown",
   "metadata": {
    "slideshow": {
     "slide_type": "notes"
    }
   },
   "source": [
    "* almost 1000x the energy-density of dielectric capacitors\n",
    "* around 10x the power-density of conventional batteries"
   ]
  },
  {
   "cell_type": "markdown",
   "metadata": {
    "slideshow": {
     "slide_type": "subslide"
    }
   },
   "source": [
    "## Challenges and applications\n",
    "\n",
    "SC support a broad spectrum of applications, including:\n",
    "* Low supply current for memory backup in static random-access memory (SRAM)\n",
    "* Power for cars, buses, trains, cranes and elevators, including energy recovery from braking, short-term energy storage and burst-mode power delivery\n",
    "\n",
    "SC are suitable in applications where a large amount of power is needed for a relatively short time, where a very high number of charge/discharge cycles or a longer lifetime is required."
   ]
  },
  {
   "cell_type": "markdown",
   "metadata": {
    "slideshow": {
     "slide_type": "notes"
    }
   },
   "source": [
    "Typical applications range from milliamp currents or milliwatts of power for up to a few minutes to several amps current or several hundred kilowatts power for much shorter periods."
   ]
  },
  {
   "cell_type": "markdown",
   "metadata": {
    "slideshow": {
     "slide_type": "fragment"
    }
   },
   "source": [
    "Limitation of current technology related to performance, safety, and lifetime:\n",
    "* low operating voltage (safety margin against electrolyte’s breakdown)\n",
    "* current loads only limited by internal resistance\n",
    "* heat generally defines lifetime (evaporation rate of the liquid electrolyte)"
   ]
  },
  {
   "cell_type": "markdown",
   "metadata": {
    "slideshow": {
     "slide_type": "slide"
    }
   },
   "source": [
    "## Storage principles\n",
    "Capacitance value of an electrochemical capacitor is determined by two storage principles:\n",
    "* **double-layer capacitance** – electrostatic storage of the electrical energy achieved by separation of charge in a Helmholtz double layer\n",
    "* **pseudo capacitance** – electrochemical storage achieved by faradaic redox reactions with charge-transfer\n",
    "\n",
    "<img src=\"figures/storage_principles.png\" width=\"700\">\n",
    "From [E. Frackowiaka and F. Béguin, Carbon, 39, 937-950 (2001)]"
   ]
  },
  {
   "cell_type": "markdown",
   "metadata": {
    "slideshow": {
     "slide_type": "notes"
    }
   },
   "source": [
    "(left)\n",
    "two electrodes separated by an ion permeable membrane (separator)\n",
    "\n",
    "an electrolyte electrically connecting both electrodes\n",
    "\n",
    "when the electrodes are polarized with an applied voltage\n",
    "ions in the electrolyte form electric double layers of opposite polarity to the electrode's polarity\n",
    "\n",
    "For example, negatively polarized electrodes will have a layer of positive ions form \n",
    "at the electrode/electrolyte interface along with a charge-balancing layer \n",
    "of positive ions adsorbing onto the negative layer\n",
    "\n",
    "* electrodes typically made of a nano porous material\n",
    "* porous separator and electrode pores saturated with the electrolyte\n",
    "\n",
    "alignment of charges of opposite polarity at the interface between each electrode and the electrolyte := double layer effect\n",
    "\n",
    "(right)\n",
    "Typical charge/discharge voltammetry characteristics of an electrochemical capacitor\n",
    "\n",
    "An ideal double layer capacitance behaviour of an electrode material is expressed in the form of a rectangular shape of the voltammetry characteristics presented in Fig. 3. The sign of current is immediately reversed upon reversal of the potential sweep. In this type of energy storage, the phenomenon is purely electrostatic and current is independent on potential. On the other hand, electrode materials with pseudocapacitance properties point out a deviation from such a rectangular shape and reversible redox peaks connected with pseudofaradaic reactions are remarkable (Fig. 3). In this case the charge accumulated in the capacitor is strongly dependent on the electrode potential. The observed delay of potential during reversing the potential sweep is connected with a kinetically slow process involved during charging the pseudocapacitance."
   ]
  },
  {
   "cell_type": "markdown",
   "metadata": {
    "slideshow": {
     "slide_type": "skip"
    }
   },
   "source": [
    "<img src=\"figures/scheme_of_the_elecrical_double_layer.png\" width=\"200\">\n",
    "<img src=\"figures/typical_charge_discharge_voltammetry_characteristics_of_an_electrochemical_capacitor.png\" width=\"200\">"
   ]
  },
  {
   "cell_type": "markdown",
   "metadata": {
    "slideshow": {
     "slide_type": "subslide"
    }
   },
   "source": [
    "## Construction\n",
    "\n",
    "<img src=\"figures/construction.png\" width=\"800\">\n",
    "From [Wikipedia contributors, Electric double-layer capacitor (Accessed Oct. 29, 2014)]"
   ]
  },
  {
   "cell_type": "markdown",
   "metadata": {
    "slideshow": {
     "slide_type": "subslide"
    }
   },
   "source": [
    "## Governing equations\n",
    "<img src=\"figures/governing_equations.png\" width=\"800\">"
   ]
  },
  {
   "cell_type": "markdown",
   "metadata": {
    "slideshow": {
     "slide_type": "subslide"
    }
   },
   "source": [
    "## Homogenization of the system in porous medium\n",
    "<img src=\"figures/homogenization_in_porous_medium.png\" width=\"800\">"
   ]
  },
  {
   "cell_type": "markdown",
   "metadata": {
    "slideshow": {
     "slide_type": "subslide"
    }
   },
   "source": [
    "## Schematic of an electrochemical capacitor\n",
    "\n",
    "<img src=\"https://raw.githubusercontent.com/ORNL-CEES/Cap/master/docs/source/sandwich.png\" width=\"400\">\n",
    "Schematic representation of the supercapacitor conventional sandwich-like configuration.<br/>\n",
    "1: anode electrode, 2: separator, 3: cathode electrode, 4: anode collector, 5: cathode collector."
   ]
  },
  {
   "cell_type": "markdown",
   "metadata": {
    "slideshow": {
     "slide_type": "subslide"
    }
   },
   "source": [
    "## Simplified electrochemical model\n",
    "\n",
    "$i_1 = -\\sigma\\nabla\\Phi_1$<br/>\n",
    "$i_2 = -\\kappa\\nabla\\Phi_2$<br/>\n",
    "$-\\nabla\\cdot i_1 = \\nabla\\cdot i_2 = ai_n$\n",
    "\n",
    "$i_n = C\\frac{\\partial}{\\partial t}(\\Phi_1 - \\Phi_2) + i_0 (e^{\\frac{\\alpha_a F}{RT}\\eta} - e^{-\\frac{\\alpha_c F}{RT}\\eta})$\n",
    "<img src=\"figures/electrochemical_system.png\" width=\"600\">"
   ]
  },
  {
   "cell_type": "markdown",
   "metadata": {
    "slideshow": {
     "slide_type": "slide"
    }
   },
   "source": []
  },
  {
   "cell_type": "markdown",
   "metadata": {
    "slideshow": {
     "slide_type": "slide"
    }
   },
   "source": [
    "## Quantities of interest\n",
    "\n",
    "Only total current $I$ and voltage $U$ are measurable.\n",
    "<img src=\"https://raw.githubusercontent.com/dalg24/Cap/master/docs/source/energy_storage_device.png\" width=\"300\">\n",
    "* Power $P=UI/m$\n",
    "* Energy $E=\\int_0^t Pdt′$\n",
    "* Efficiency\n",
    "* Temperature (surface...)\n",
    "<img src=figures/cyclic_charge_discharge.png width=900>"
   ]
  },
  {
   "cell_type": "markdown",
   "metadata": {
    "slideshow": {
     "slide_type": "subslide"
    }
   },
   "source": [
    "## Results from experiment\n",
    "\n",
    "\n",
    "* supercapacitor initially at 0 V\n",
    "* charged to 1.7 V at constant current 100 A\n",
    "* constant 1.4 V applied for 5 s then allowed to rest for 3 min\n",
    "* sequence repeated for a series of potentials from 1.8 to 2.4 V with increments of 0.1 V\n",
    "\n",
    "<img src=\"figures/series_of_constant_current_charge_and_constant_voltage_discharge.png\" width=\"700\">\n",
    "[From M. Verbrugge and P. Liu, J. Electrochem. Soc., 152(5) D79-D87 (2005)]\n",
    "\n"
   ]
  },
  {
   "cell_type": "markdown",
   "metadata": {
    "slideshow": {
     "slide_type": "subslide"
    }
   },
   "source": [
    "## Compare against simulation with electrochemical model\n",
    "\n",
    "<img src=\"figures/constant_current_charge_constant_voltage_discharge.png\" width=\"800\">\n",
    "<img src=\"figures/constant_current_charge_constant_voltage_discharge_temperature.png\" width=\"300\">"
   ]
  },
  {
   "cell_type": "markdown",
   "metadata": {
    "slideshow": {
     "slide_type": "subslide"
    }
   },
   "source": [
    "## Comparison supercapacitor versus equivalent circuit model\n",
    "\n",
    "<img src=\"figures/comparison_supercapacitor_vs_equivalent_circuit.png\" width=\"600\">"
   ]
  },
  {
   "cell_type": "markdown",
   "metadata": {
    "slideshow": {
     "slide_type": "subslide"
    }
   },
   "source": [
    "## Electrochemical impedance spectroscopy\n",
    "* A powerful tool to characterize energy storage devices\n",
    "* Measure the response of the system to AC excitation signals over a broad range of frequencies\n",
    "* Compare against equivalent circuit models\n",
    "<img src=\"figures/electrochemical_impedance_spectroscopy.png\" width=\"800\">"
   ]
  },
  {
   "cell_type": "markdown",
   "metadata": {
    "slideshow": {
     "slide_type": "subslide"
    }
   },
   "source": [
    "## Ragone plots\n",
    "\n",
    "* Assess performance of various energy storage devices\n",
    "* Provide the available energy for a constant power discharge\n",
    "\n",
    "<img src=\"figures/ragone_plot.png\" width=\"500\">\n"
   ]
  },
  {
   "cell_type": "markdown",
   "metadata": {
    "slideshow": {
     "slide_type": "slide"
    }
   },
   "source": []
  },
  {
   "cell_type": "markdown",
   "metadata": {
    "collapsed": false,
    "slideshow": {
     "slide_type": "slide"
    }
   },
   "source": [
    "# Cap\n",
    "## A library for modeling energy storage devices.\n",
    "https://github.com/ORNL-CEES/Cap.git\n",
    "* core implemented in C++\n",
    "* wrappers in Python"
   ]
  },
  {
   "cell_type": "markdown",
   "metadata": {
    "slideshow": {
     "slide_type": "subslide"
    }
   },
   "source": [
    "## PyCap provides:"
   ]
  },
  {
   "cell_type": "markdown",
   "metadata": {
    "slideshow": {
     "slide_type": "fragment"
    }
   },
   "source": [
    "## 1. Energy storage device models\n",
    "* Equivalent circuits\n",
    "* Supercapacitor model\n",
    "![energy_storage_device](https://raw.githubusercontent.com/dalg24/Cap/master/docs/source/energy_storage_device.png)"
   ]
  },
  {
   "cell_type": "markdown",
   "metadata": {
    "slideshow": {
     "slide_type": "fragment"
    }
   },
   "source": [
    "## 2. Electrochemical measurement techniques\n",
    "* Charge curve\n",
    "* Discharge curve\n",
    "* Cyclic Charge Discharge\n",
    "* Cyclic Voltammetry\n",
    "* Leakage Current\n",
    "* Ragone plots\n",
    "* Electrochemical Impedance Spectroscopy"
   ]
  },
  {
   "cell_type": "markdown",
   "metadata": {
    "slideshow": {
     "slide_type": "slide"
    }
   },
   "source": [
    "# Why Python?"
   ]
  },
  {
   "cell_type": "markdown",
   "metadata": {
    "slideshow": {
     "slide_type": "fragment"
    }
   },
   "source": [
    "* create and manipulate C++ objects and execute algorithms\n",
    "* explore object-oriented design\n",
    "* develop full-fledged applications"
   ]
  },
  {
   "cell_type": "markdown",
   "metadata": {
    "slideshow": {
     "slide_type": "fragment"
    }
   },
   "source": [
    "## Pros:\n",
    "* modern, easy to learn, powerful\n",
    "* no need to constantly recompile\n",
    "* interactive mode\n",
    "* bindings of the MPI standard\n",
    "* built-in help\n",
    "```python\n",
    ">>> import pycap\n",
    ">>> help(pycap.PropertyTree)\n",
    "```\n",
    "* native unit testing framework\n",
    "\n",
    "## Cons:\n",
    "* inefficient?"
   ]
  },
  {
   "cell_type": "markdown",
   "metadata": {
    "slideshow": {
     "slide_type": "subslide"
    }
   },
   "source": [
    "## PyCap adds a level of convenience\n",
    "\n",
    "Create an energy storage device:\n",
    "\n",
    "```python\n",
    "# dynamically import packages\n",
    "from pycap import PropertyTree, EnergyStorageDevice\n",
    "from mpi4py import MPI\n",
    "\n",
    "# read the data structure that holds the device configuration\n",
    "ptree = PropertyTree()\n",
    "ptree.parse_xml('/notebooks/super_capacitor.xml')\n",
    "\n",
    "# build an energy storage device\n",
    "device = EnergyStorageDevice(ptree, comm=MPI.COMM_WORLD)\n",
    "```"
   ]
  },
  {
   "cell_type": "markdown",
   "metadata": {
    "slideshow": {
     "slide_type": "subslide"
    }
   },
   "source": [
    "Setting up an experiment for the device:\n",
    "\n",
    "```\n",
    "; INFO is a simple and efficient format to store property trees\n",
    "cyclic_voltammetry {\n",
    "    initial_voltage   0   ; [volt]\n",
    "    final_voltage     0   ; [volt]\n",
    "    scan_limit_1      2.4 ; [volt]\n",
    "    scan_limit_2     -0.5 ; [volt]\n",
    "    scan_rate       100   ; [millivolt per second]\n",
    "    step_size         5   ; [millivolt]\n",
    "    cycles            2   ; []\n",
    "}\n",
    "```\n",
    "\n",
    "Note that this format supports:\n",
    "* arbitrary depth nesting via curly braces\n",
    "* file inclusion via ``#include``"
   ]
  },
  {
   "cell_type": "markdown",
   "metadata": {
    "slideshow": {
     "slide_type": "subslide"
    }
   },
   "source": [
    "Uncertainty quantification and optimization:\n",
    "\n",
    "```python\n",
    "# setup the impedance spectrum measurement\n",
    "ptree = PropertyTree()\n",
    "ptree.parse_xml('/notebooks/electrochemical_impedance_spectroscopy.xml')\n",
    "eis = Experiment(ptree)\n",
    "\n",
    "# straightforward to perturbate nominal values\n",
    "for param in [0.6402, 0.6, 0.6998]:\n",
    "    ptree = PropertyTree()\n",
    "    ptree.parse_xml('/notebooks/super_capacitor.xml')\n",
    "    ptree.put_double('material_properties'\n",
    "                     '.electrode_material.void_volume_fraction',\n",
    "                     param)\n",
    "    device = EnergyStorageDevice(ptree, comm=MPI.COMM_WORLD)\n",
    "    eis.run(device)\n",
    "```"
   ]
  },
  {
   "cell_type": "markdown",
   "metadata": {
    "slideshow": {
     "slide_type": "subslide"
    }
   },
   "source": [
    "## Unit Testing with Python\n",
    "\n",
    "Testing is worth the effort!\n",
    "\n",
    "```python\n",
    "import unittest\n",
    "from pycap import PropertyTree\n",
    "\n",
    "class TestPropertyTreeWrappers(unittest.TestCase):\n",
    "\n",
    "    def test_get_with_default_value(self):\n",
    "        ptree = PropertyTree()\n",
    "        ptree.put_double('path.to.double', 1.41)\n",
    "        self.assertEqual(\n",
    "            ptree.get_double_with_default_value('path.to.double', 3.14),\n",
    "            1.41)\n",
    "\n",
    "if __name__ == '__main__':\n",
    "    unittest.main()\n",
    "```"
   ]
  },
  {
   "cell_type": "markdown",
   "metadata": {
    "slideshow": {
     "slide_type": "slide"
    }
   },
   "source": []
  },
  {
   "cell_type": "markdown",
   "metadata": {
    "slideshow": {
     "slide_type": "slide"
    }
   },
   "source": [
    "# Container-based virtualization\n",
    "\n",
    "<img src=\"https://raw.githubusercontent.com/docker/docker/master/docs/static_files/docker-logo-compressed.png\" width=\"200\">\n",
    "* [What is Docker?](https://www.docker.com/what-docker)\n",
    "* Build, Ship, Run"
   ]
  },
  {
   "cell_type": "markdown",
   "metadata": {
    "slideshow": {
     "slide_type": "fragment"
    }
   },
   "source": [
    "## Pros:\n",
    "* lightweight, open, secure\n",
    "* stop wasting hours trying to setup developer environment\n",
    "* use best language and tools for the application\n",
    "* eliminate environment inconsistencies?\n",
    "* portability\n",
    "* share with others \n",
    "without having to learn or worry about how it works\n",
    "* run anywhere: on your laptop, on a cluster, on a cloud infrastucture\n",
    "\n",
    "## Cons:\n",
    "* overhead?"
   ]
  },
  {
   "cell_type": "markdown",
   "metadata": {
    "slideshow": {
     "slide_type": "subslide"
    }
   },
   "source": [
    "## Building and sharing an image\n",
    "\n",
    "* Build an image from a [``Dockerfile``](https://github.com/ORNL-CEES/Cap/blob/master/docker/Dockerfile_stack)\n",
    "  * Use distribution package manager as much as possible\n",
    "  * Install the rest of the third-party libraries from source\n",
    "\n",
    "```\n",
    "FROM ubuntu:15.10\n",
    "\n",
    "RUN apt-get update && apt-get install -y \\\n",
    "        build-essential \\\n",
    "        git \\\n",
    "        cmake \\\n",
    "        ...\n",
    "RUN ...\n",
    "```\n",
    "* Commit (save) the container state to an image\n",
    "    * Run an interactive shell\n",
    "\n",
    "* Push it to Docker Hub or to some private registry"
   ]
  },
  {
   "cell_type": "markdown",
   "metadata": {
    "slideshow": {
     "slide_type": "subslide"
    }
   },
   "source": [
    "## Running a container\n",
    "\n",
    "1. Install Docker.\n",
    "```\n",
    "$ apt-get install docker-engine\n",
    "```\n",
    "\n",
    "2. Pull the latest image from [Docker Hub](https://hub.docker.com/r/dalg24/cap/).\n",
    "```\n",
    "$ docker pull dalg24/cap\n",
    "```\n",
    "\n",
    "3. Run it.\n",
    "```\n",
    "$ docker run --rm -it \\\n",
    "      -p 8888:8888 \\\n",
    "      -v ~/notebooks:/notebooks \\\n",
    "      dalg24/cap\n",
    "```\n",
    "\n",
    "4. Open your web browser and follow http://jupyterdocker.ornl.gov:8888."
   ]
  },
  {
   "cell_type": "markdown",
   "metadata": {
    "slideshow": {
     "slide_type": "slide"
    }
   },
   "source": [
    "## Continuous Integration\n",
    "\n",
    "<img src=\"https://raw.githubusercontent.com/travis-ci/travis-web/master/public/images/travis-mascot-150.png\" width=\"50\">\n",
    "\n",
    "https://travis-ci.org/ORNL-CEES/Cap\n",
    "\n",
    "Focus on writing code. Let the CI system take care of running the tests.\n"
   ]
  },
  {
   "cell_type": "markdown",
   "metadata": {
    "slideshow": {
     "slide_type": "fragment"
    }
   },
   "source": [
    "Build the code and run the unit tests **within a container**.\n",
    "\n",
    "* Use a [pre-built image](https://hub.docker.com/r/dalg24/cap-stack/) that has all the prerequisites for the project\n",
    "* Automate the build and the test suite\n",
    "* Verify that they are all passed **before** committing to the project repository\n",
    "* Update the image on Docker Hub"
   ]
  },
  {
   "cell_type": "markdown",
   "metadata": {
    "slideshow": {
     "slide_type": "subslide"
    }
   },
   "source": [
    "Collaborating on projects using **issues** and **pull requests**\n",
    "\n",
    "1. Fork the project\n",
    "* Make changes on a topic branch\n",
    "* Create pull request\n",
    "* Review the set of changes\n",
    "* Merge into project repository"
   ]
  },
  {
   "cell_type": "markdown",
   "metadata": {
    "slideshow": {
     "slide_type": "slide"
    }
   },
   "source": [
    "## Conclusions and future work\n",
    "\n",
    "* Electrochmical impedance spectroscopy for validating/comparing models\n",
    "* Container-based virtualization is a precious help\n",
    "* Improve current material models\n",
    "* Implement new devices"
   ]
  },
  {
   "cell_type": "markdown",
   "metadata": {
    "slideshow": {
     "slide_type": "slide"
    }
   },
   "source": [
    "## THANK YOU FOR YOUR ATTENTION\n",
    "\n",
    "## QUESTIONS/COMMENTS?"
   ]
  }
 ],
 "metadata": {
  "celltoolbar": "Slideshow",
  "kernelspec": {
   "display_name": "Python 3",
   "language": "python",
   "name": "python3"
  },
  "language_info": {
   "codemirror_mode": {
    "name": "ipython",
    "version": 3
   },
   "file_extension": ".py",
   "mimetype": "text/x-python",
   "name": "python",
   "nbconvert_exporter": "python",
   "pygments_lexer": "ipython3",
   "version": "3.5.2"
  }
 },
 "nbformat": 4,
 "nbformat_minor": 0
}
